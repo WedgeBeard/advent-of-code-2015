{
 "cells": [
  {
   "cell_type": "code",
   "execution_count": 3,
   "id": "41d644a2",
   "metadata": {},
   "outputs": [
    {
     "name": "stdout",
     "output_type": "stream",
     "text": [
      "Day 01 part A\n"
     ]
    }
   ],
   "source": [
    "print(\"Day 01 part A\")"
   ]
  },
  {
   "cell_type": "code",
   "execution_count": 4,
   "id": "d86ae0ab",
   "metadata": {},
   "outputs": [
    {
     "name": "stdout",
     "output_type": "stream",
     "text": [
      "280\n"
     ]
    }
   ],
   "source": [
    "import os\n",
    "\n",
    "filename = \"../input.txt\"\n",
    "with open(filename) as opened_file:\n",
    "    line = opened_file.readline()\n",
    "\n",
    "floor = 0\n",
    "for char in line:\n",
    "    if char == \"(\":\n",
    "        floor += 1\n",
    "    elif char == \")\":\n",
    "        floor -= 1\n",
    "\n",
    "print(floor)"
   ]
  },
  {
   "cell_type": "code",
   "execution_count": null,
   "id": "2634d583",
   "metadata": {},
   "outputs": [],
   "source": []
  }
 ],
 "metadata": {
  "kernelspec": {
   "display_name": "Python 3",
   "language": "python",
   "name": "python3"
  },
  "language_info": {
   "codemirror_mode": {
    "name": "ipython",
    "version": 3
   },
   "file_extension": ".py",
   "mimetype": "text/x-python",
   "name": "python",
   "nbconvert_exporter": "python",
   "pygments_lexer": "ipython3",
   "version": "3.13.7"
  }
 },
 "nbformat": 4,
 "nbformat_minor": 5
}
