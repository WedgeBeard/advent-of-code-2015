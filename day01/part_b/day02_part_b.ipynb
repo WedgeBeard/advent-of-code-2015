{
 "cells": [
  {
   "cell_type": "code",
   "execution_count": null,
   "id": "940d0746",
   "metadata": {},
   "outputs": [],
   "source": [
    "print(\"Day 01 part B\")"
   ]
  },
  {
   "cell_type": "code",
   "execution_count": 7,
   "id": "37c96a12",
   "metadata": {},
   "outputs": [
    {
     "name": "stdout",
     "output_type": "stream",
     "text": [
      "1797\n"
     ]
    }
   ],
   "source": [
    "import os\n",
    "\n",
    "filename = \"input.txt\"\n",
    "with open(filename) as opened_file:\n",
    "    line = opened_file.readline()\n",
    "\n",
    "floor = 0\n",
    "position = 0\n",
    "entered_basement = 0\n",
    "first_time = True\n",
    "\n",
    "for char in line:\n",
    "    if char == \"(\":\n",
    "        floor += 1\n",
    "        position += 1\n",
    "    elif char == \")\":\n",
    "        floor -= 1\n",
    "        position += 1\n",
    "    \n",
    "    if floor == -1 and first_time:\n",
    "        entered_basement = position\n",
    "        first_time = False\n",
    "\n",
    "print(entered_basement)"
   ]
  },
  {
   "cell_type": "code",
   "execution_count": null,
   "id": "8e7a7138",
   "metadata": {},
   "outputs": [],
   "source": []
  }
 ],
 "metadata": {
  "kernelspec": {
   "display_name": "Python 3",
   "language": "python",
   "name": "python3"
  },
  "language_info": {
   "codemirror_mode": {
    "name": "ipython",
    "version": 3
   },
   "file_extension": ".py",
   "mimetype": "text/x-python",
   "name": "python",
   "nbconvert_exporter": "python",
   "pygments_lexer": "ipython3",
   "version": "3.13.7"
  }
 },
 "nbformat": 4,
 "nbformat_minor": 5
}
